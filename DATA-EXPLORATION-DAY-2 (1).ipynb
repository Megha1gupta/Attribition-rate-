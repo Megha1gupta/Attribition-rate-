{
 "cells": [
  {
   "cell_type": "code",
   "execution_count": 34,
   "id": "6422738b",
   "metadata": {
    "ExecuteTime": {
     "end_time": "2022-10-08T03:55:09.253170Z",
     "start_time": "2022-10-08T03:55:08.689185Z"
    }
   },
   "outputs": [],
   "source": [
    "import pandas as pd \n",
    "import numpy as np \n",
    "import matplotlib.pyplot as plt \n",
    "import seaborn as sns \n"
   ]
  },
  {
   "cell_type": "code",
   "execution_count": null,
   "id": "8f8565e8",
   "metadata": {},
   "outputs": [],
   "source": [
    "dataset = pd.read_excel('/Users/rishavdas/Downloads/Data/HR_Employee_Attrition-1.xlsx')\n",
    "\n",
    "dataset.head()"
   ]
  },
  {
   "cell_type": "code",
   "execution_count": 2,
   "id": "dda8f5c2",
   "metadata": {
    "ExecuteTime": {
     "end_time": "2022-10-08T02:46:20.978290Z",
     "start_time": "2022-10-08T02:46:20.968196Z"
    }
   },
   "outputs": [
    {
     "data": {
      "text/plain": [
       "(2940, 35)"
      ]
     },
     "execution_count": 2,
     "metadata": {},
     "output_type": "execute_result"
    }
   ],
   "source": [
    "dataset.shape"
   ]
  },
  {
   "cell_type": "code",
   "execution_count": 11,
   "id": "db5233a4",
   "metadata": {
    "ExecuteTime": {
     "end_time": "2022-10-08T02:53:24.681996Z",
     "start_time": "2022-10-08T02:53:24.673795Z"
    }
   },
   "outputs": [],
   "source": [
    "category_cols = dataset.select_dtypes('object')"
   ]
  },
  {
   "cell_type": "code",
   "execution_count": 12,
   "id": "ab160c75",
   "metadata": {
    "ExecuteTime": {
     "end_time": "2022-10-08T02:53:26.393467Z",
     "start_time": "2022-10-08T02:53:26.368360Z"
    }
   },
   "outputs": [
    {
     "data": {
      "text/html": [
       "<div>\n",
       "<style scoped>\n",
       "    .dataframe tbody tr th:only-of-type {\n",
       "        vertical-align: middle;\n",
       "    }\n",
       "\n",
       "    .dataframe tbody tr th {\n",
       "        vertical-align: top;\n",
       "    }\n",
       "\n",
       "    .dataframe thead th {\n",
       "        text-align: right;\n",
       "    }\n",
       "</style>\n",
       "<table border=\"1\" class=\"dataframe\">\n",
       "  <thead>\n",
       "    <tr style=\"text-align: right;\">\n",
       "      <th></th>\n",
       "      <th>Attrition</th>\n",
       "      <th>BusinessTravel</th>\n",
       "      <th>Department</th>\n",
       "      <th>EducationField</th>\n",
       "      <th>Gender</th>\n",
       "      <th>JobRole</th>\n",
       "      <th>MaritalStatus</th>\n",
       "      <th>Over18</th>\n",
       "      <th>OverTime</th>\n",
       "    </tr>\n",
       "  </thead>\n",
       "  <tbody>\n",
       "    <tr>\n",
       "      <th>0</th>\n",
       "      <td>Yes</td>\n",
       "      <td>Travel_Rarely</td>\n",
       "      <td>Sales</td>\n",
       "      <td>Life Sciences</td>\n",
       "      <td>Female</td>\n",
       "      <td>Sales Executive</td>\n",
       "      <td>Single</td>\n",
       "      <td>Y</td>\n",
       "      <td>Yes</td>\n",
       "    </tr>\n",
       "    <tr>\n",
       "      <th>1</th>\n",
       "      <td>No</td>\n",
       "      <td>Travel_Frequently</td>\n",
       "      <td>Research &amp; Development</td>\n",
       "      <td>Life Sciences</td>\n",
       "      <td>Male</td>\n",
       "      <td>Research Scientist</td>\n",
       "      <td>Married</td>\n",
       "      <td>Y</td>\n",
       "      <td>No</td>\n",
       "    </tr>\n",
       "    <tr>\n",
       "      <th>2</th>\n",
       "      <td>Yes</td>\n",
       "      <td>Travel_Rarely</td>\n",
       "      <td>Research &amp; Development</td>\n",
       "      <td>Other</td>\n",
       "      <td>Male</td>\n",
       "      <td>Laboratory Technician</td>\n",
       "      <td>Single</td>\n",
       "      <td>Y</td>\n",
       "      <td>Yes</td>\n",
       "    </tr>\n",
       "    <tr>\n",
       "      <th>3</th>\n",
       "      <td>No</td>\n",
       "      <td>Travel_Frequently</td>\n",
       "      <td>Research &amp; Development</td>\n",
       "      <td>Life Sciences</td>\n",
       "      <td>Female</td>\n",
       "      <td>Research Scientist</td>\n",
       "      <td>Married</td>\n",
       "      <td>Y</td>\n",
       "      <td>Yes</td>\n",
       "    </tr>\n",
       "    <tr>\n",
       "      <th>4</th>\n",
       "      <td>No</td>\n",
       "      <td>Travel_Rarely</td>\n",
       "      <td>Research &amp; Development</td>\n",
       "      <td>Medical</td>\n",
       "      <td>Male</td>\n",
       "      <td>Laboratory Technician</td>\n",
       "      <td>Married</td>\n",
       "      <td>Y</td>\n",
       "      <td>No</td>\n",
       "    </tr>\n",
       "    <tr>\n",
       "      <th>...</th>\n",
       "      <td>...</td>\n",
       "      <td>...</td>\n",
       "      <td>...</td>\n",
       "      <td>...</td>\n",
       "      <td>...</td>\n",
       "      <td>...</td>\n",
       "      <td>...</td>\n",
       "      <td>...</td>\n",
       "      <td>...</td>\n",
       "    </tr>\n",
       "    <tr>\n",
       "      <th>2935</th>\n",
       "      <td>No</td>\n",
       "      <td>Travel_Frequently</td>\n",
       "      <td>Research &amp; Development</td>\n",
       "      <td>Medical</td>\n",
       "      <td>Male</td>\n",
       "      <td>Laboratory Technician</td>\n",
       "      <td>Married</td>\n",
       "      <td>Y</td>\n",
       "      <td>No</td>\n",
       "    </tr>\n",
       "    <tr>\n",
       "      <th>2936</th>\n",
       "      <td>No</td>\n",
       "      <td>Travel_Rarely</td>\n",
       "      <td>Research &amp; Development</td>\n",
       "      <td>Medical</td>\n",
       "      <td>Male</td>\n",
       "      <td>Healthcare Representative</td>\n",
       "      <td>Married</td>\n",
       "      <td>Y</td>\n",
       "      <td>No</td>\n",
       "    </tr>\n",
       "    <tr>\n",
       "      <th>2937</th>\n",
       "      <td>No</td>\n",
       "      <td>Travel_Rarely</td>\n",
       "      <td>Research &amp; Development</td>\n",
       "      <td>Life Sciences</td>\n",
       "      <td>Male</td>\n",
       "      <td>Manufacturing Director</td>\n",
       "      <td>Married</td>\n",
       "      <td>Y</td>\n",
       "      <td>Yes</td>\n",
       "    </tr>\n",
       "    <tr>\n",
       "      <th>2938</th>\n",
       "      <td>No</td>\n",
       "      <td>Travel_Frequently</td>\n",
       "      <td>Sales</td>\n",
       "      <td>Medical</td>\n",
       "      <td>Male</td>\n",
       "      <td>Sales Executive</td>\n",
       "      <td>Married</td>\n",
       "      <td>Y</td>\n",
       "      <td>No</td>\n",
       "    </tr>\n",
       "    <tr>\n",
       "      <th>2939</th>\n",
       "      <td>No</td>\n",
       "      <td>Travel_Rarely</td>\n",
       "      <td>Research &amp; Development</td>\n",
       "      <td>Medical</td>\n",
       "      <td>Male</td>\n",
       "      <td>Laboratory Technician</td>\n",
       "      <td>Married</td>\n",
       "      <td>Y</td>\n",
       "      <td>No</td>\n",
       "    </tr>\n",
       "  </tbody>\n",
       "</table>\n",
       "<p>2940 rows × 9 columns</p>\n",
       "</div>"
      ],
      "text/plain": [
       "     Attrition     BusinessTravel              Department EducationField  \\\n",
       "0          Yes      Travel_Rarely                   Sales  Life Sciences   \n",
       "1           No  Travel_Frequently  Research & Development  Life Sciences   \n",
       "2          Yes      Travel_Rarely  Research & Development          Other   \n",
       "3           No  Travel_Frequently  Research & Development  Life Sciences   \n",
       "4           No      Travel_Rarely  Research & Development        Medical   \n",
       "...        ...                ...                     ...            ...   \n",
       "2935        No  Travel_Frequently  Research & Development        Medical   \n",
       "2936        No      Travel_Rarely  Research & Development        Medical   \n",
       "2937        No      Travel_Rarely  Research & Development  Life Sciences   \n",
       "2938        No  Travel_Frequently                   Sales        Medical   \n",
       "2939        No      Travel_Rarely  Research & Development        Medical   \n",
       "\n",
       "      Gender                    JobRole MaritalStatus Over18 OverTime  \n",
       "0     Female            Sales Executive        Single      Y      Yes  \n",
       "1       Male         Research Scientist       Married      Y       No  \n",
       "2       Male      Laboratory Technician        Single      Y      Yes  \n",
       "3     Female         Research Scientist       Married      Y      Yes  \n",
       "4       Male      Laboratory Technician       Married      Y       No  \n",
       "...      ...                        ...           ...    ...      ...  \n",
       "2935    Male      Laboratory Technician       Married      Y       No  \n",
       "2936    Male  Healthcare Representative       Married      Y       No  \n",
       "2937    Male     Manufacturing Director       Married      Y      Yes  \n",
       "2938    Male            Sales Executive       Married      Y       No  \n",
       "2939    Male      Laboratory Technician       Married      Y       No  \n",
       "\n",
       "[2940 rows x 9 columns]"
      ]
     },
     "execution_count": 12,
     "metadata": {},
     "output_type": "execute_result"
    }
   ],
   "source": [
    "category_cols"
   ]
  },
  {
   "cell_type": "code",
   "execution_count": 13,
   "id": "bcc7af90",
   "metadata": {
    "ExecuteTime": {
     "end_time": "2022-10-08T02:53:29.725084Z",
     "start_time": "2022-10-08T02:53:29.703301Z"
    }
   },
   "outputs": [
    {
     "name": "stdout",
     "output_type": "stream",
     "text": [
      "Unique Values in Attrition are :\n",
      "No     2466\n",
      "Yes     474\n",
      "Name: Attrition, dtype: int64\n",
      "**************************************************\n",
      "Unique Values in BusinessTravel are :\n",
      "Travel_Rarely        2086\n",
      "Travel_Frequently     554\n",
      "Non-Travel            300\n",
      "Name: BusinessTravel, dtype: int64\n",
      "**************************************************\n",
      "Unique Values in Department are :\n",
      "Research & Development    1922\n",
      "Sales                      892\n",
      "Human Resources            126\n",
      "Name: Department, dtype: int64\n",
      "**************************************************\n",
      "Unique Values in EducationField are :\n",
      "Life Sciences       1212\n",
      "Medical              928\n",
      "Marketing            318\n",
      "Technical Degree     264\n",
      "Other                164\n",
      "Human Resources       54\n",
      "Name: EducationField, dtype: int64\n",
      "**************************************************\n",
      "Unique Values in Gender are :\n",
      "Male      1764\n",
      "Female    1176\n",
      "Name: Gender, dtype: int64\n",
      "**************************************************\n",
      "Unique Values in JobRole are :\n",
      "Sales Executive              652\n",
      "Research Scientist           584\n",
      "Laboratory Technician        518\n",
      "Manufacturing Director       290\n",
      "Healthcare Representative    262\n",
      "Manager                      204\n",
      "Sales Representative         166\n",
      "Research Director            160\n",
      "Human Resources              104\n",
      "Name: JobRole, dtype: int64\n",
      "**************************************************\n",
      "Unique Values in MaritalStatus are :\n",
      "Married     1346\n",
      "Single       940\n",
      "Divorced     654\n",
      "Name: MaritalStatus, dtype: int64\n",
      "**************************************************\n",
      "Unique Values in Over18 are :\n",
      "Y    2940\n",
      "Name: Over18, dtype: int64\n",
      "**************************************************\n",
      "Unique Values in OverTime are :\n",
      "No     2108\n",
      "Yes     832\n",
      "Name: OverTime, dtype: int64\n",
      "**************************************************\n"
     ]
    }
   ],
   "source": [
    "for i in category_cols:\n",
    "    print(f\"Unique Values in {i} are :\")\n",
    "    print(category_cols[i].value_counts())\n",
    "    print(\"*\"*50)"
   ]
  },
  {
   "cell_type": "code",
   "execution_count": 14,
   "id": "41dd6635",
   "metadata": {
    "ExecuteTime": {
     "end_time": "2022-10-08T02:54:43.905310Z",
     "start_time": "2022-10-08T02:54:43.900677Z"
    }
   },
   "outputs": [
    {
     "data": {
      "text/plain": [
       "Index(['EmployeeNumber', 'Attrition', 'Age', 'BusinessTravel', 'DailyRate',\n",
       "       'Department', 'DistanceFromHome', 'Education', 'EducationField',\n",
       "       'EmployeeCount', 'EnvironmentSatisfaction', 'Gender', 'HourlyRate',\n",
       "       'JobInvolvement', 'JobLevel', 'JobRole', 'JobSatisfaction',\n",
       "       'MaritalStatus', 'MonthlyIncome', 'MonthlyRate', 'NumCompaniesWorked',\n",
       "       'Over18', 'OverTime', 'PercentSalaryHike', 'PerformanceRating',\n",
       "       'RelationshipSatisfaction', 'StandardHours', 'StockOptionLevel',\n",
       "       'TotalWorkingYears', 'TrainingTimesLastYear', 'WorkLifeBalance',\n",
       "       'YearsAtCompany', 'YearsInCurrentRole', 'YearsSinceLastPromotion',\n",
       "       'YearsWithCurrManager'],\n",
       "      dtype='object')"
      ]
     },
     "execution_count": 14,
     "metadata": {},
     "output_type": "execute_result"
    }
   ],
   "source": [
    "dataset.columns"
   ]
  },
  {
   "cell_type": "code",
   "execution_count": 15,
   "id": "1dd37e79",
   "metadata": {
    "ExecuteTime": {
     "end_time": "2022-10-08T02:55:33.408240Z",
     "start_time": "2022-10-08T02:55:33.402976Z"
    }
   },
   "outputs": [],
   "source": [
    "dataset.drop(columns='Over18', inplace=True)"
   ]
  },
  {
   "cell_type": "code",
   "execution_count": 16,
   "id": "2467e4d6",
   "metadata": {
    "ExecuteTime": {
     "end_time": "2022-10-08T02:55:41.378661Z",
     "start_time": "2022-10-08T02:55:41.369714Z"
    }
   },
   "outputs": [
    {
     "data": {
      "text/plain": [
       "Index(['EmployeeNumber', 'Attrition', 'Age', 'BusinessTravel', 'DailyRate',\n",
       "       'Department', 'DistanceFromHome', 'Education', 'EducationField',\n",
       "       'EmployeeCount', 'EnvironmentSatisfaction', 'Gender', 'HourlyRate',\n",
       "       'JobInvolvement', 'JobLevel', 'JobRole', 'JobSatisfaction',\n",
       "       'MaritalStatus', 'MonthlyIncome', 'MonthlyRate', 'NumCompaniesWorked',\n",
       "       'OverTime', 'PercentSalaryHike', 'PerformanceRating',\n",
       "       'RelationshipSatisfaction', 'StandardHours', 'StockOptionLevel',\n",
       "       'TotalWorkingYears', 'TrainingTimesLastYear', 'WorkLifeBalance',\n",
       "       'YearsAtCompany', 'YearsInCurrentRole', 'YearsSinceLastPromotion',\n",
       "       'YearsWithCurrManager'],\n",
       "      dtype='object')"
      ]
     },
     "execution_count": 16,
     "metadata": {},
     "output_type": "execute_result"
    }
   ],
   "source": [
    "dataset.columns"
   ]
  },
  {
   "cell_type": "code",
   "execution_count": 17,
   "id": "d177f2c4",
   "metadata": {
    "ExecuteTime": {
     "end_time": "2022-10-08T02:56:19.833142Z",
     "start_time": "2022-10-08T02:56:19.826008Z"
    }
   },
   "outputs": [
    {
     "data": {
      "text/plain": [
       "EmployeeNumber              0\n",
       "Attrition                   0\n",
       "Age                         0\n",
       "BusinessTravel              0\n",
       "DailyRate                   0\n",
       "Department                  0\n",
       "DistanceFromHome            0\n",
       "Education                   0\n",
       "EducationField              0\n",
       "EmployeeCount               0\n",
       "EnvironmentSatisfaction     0\n",
       "Gender                      0\n",
       "HourlyRate                  0\n",
       "JobInvolvement              0\n",
       "JobLevel                    0\n",
       "JobRole                     0\n",
       "JobSatisfaction             0\n",
       "MaritalStatus               0\n",
       "MonthlyIncome               0\n",
       "MonthlyRate                 0\n",
       "NumCompaniesWorked          0\n",
       "OverTime                    0\n",
       "PercentSalaryHike           0\n",
       "PerformanceRating           0\n",
       "RelationshipSatisfaction    0\n",
       "StandardHours               0\n",
       "StockOptionLevel            0\n",
       "TotalWorkingYears           0\n",
       "TrainingTimesLastYear       0\n",
       "WorkLifeBalance             0\n",
       "YearsAtCompany              0\n",
       "YearsInCurrentRole          0\n",
       "YearsSinceLastPromotion     0\n",
       "YearsWithCurrManager        0\n",
       "dtype: int64"
      ]
     },
     "execution_count": 17,
     "metadata": {},
     "output_type": "execute_result"
    }
   ],
   "source": [
    "dataset.isnull().sum()"
   ]
  },
  {
   "cell_type": "code",
   "execution_count": 19,
   "id": "90247502",
   "metadata": {
    "ExecuteTime": {
     "end_time": "2022-10-08T02:58:38.030734Z",
     "start_time": "2022-10-08T02:58:37.958741Z"
    }
   },
   "outputs": [],
   "source": [
    "categorical_dataset = dataset.describe(include=['object']).T"
   ]
  },
  {
   "cell_type": "code",
   "execution_count": 22,
   "id": "3a932586",
   "metadata": {
    "ExecuteTime": {
     "end_time": "2022-10-08T03:00:11.664277Z",
     "start_time": "2022-10-08T03:00:11.659952Z"
    }
   },
   "outputs": [],
   "source": [
    "categorical_dataset['pct'] = (categorical_dataset['freq']/categorical_dataset['count'])*100"
   ]
  },
  {
   "cell_type": "code",
   "execution_count": 23,
   "id": "3aeba76e",
   "metadata": {
    "ExecuteTime": {
     "end_time": "2022-10-08T03:00:16.504880Z",
     "start_time": "2022-10-08T03:00:16.490098Z"
    }
   },
   "outputs": [
    {
     "data": {
      "text/html": [
       "<div>\n",
       "<style scoped>\n",
       "    .dataframe tbody tr th:only-of-type {\n",
       "        vertical-align: middle;\n",
       "    }\n",
       "\n",
       "    .dataframe tbody tr th {\n",
       "        vertical-align: top;\n",
       "    }\n",
       "\n",
       "    .dataframe thead th {\n",
       "        text-align: right;\n",
       "    }\n",
       "</style>\n",
       "<table border=\"1\" class=\"dataframe\">\n",
       "  <thead>\n",
       "    <tr style=\"text-align: right;\">\n",
       "      <th></th>\n",
       "      <th>count</th>\n",
       "      <th>unique</th>\n",
       "      <th>top</th>\n",
       "      <th>freq</th>\n",
       "      <th>pct</th>\n",
       "    </tr>\n",
       "  </thead>\n",
       "  <tbody>\n",
       "    <tr>\n",
       "      <th>Attrition</th>\n",
       "      <td>2940</td>\n",
       "      <td>2</td>\n",
       "      <td>No</td>\n",
       "      <td>2466</td>\n",
       "      <td>83.877551</td>\n",
       "    </tr>\n",
       "    <tr>\n",
       "      <th>BusinessTravel</th>\n",
       "      <td>2940</td>\n",
       "      <td>3</td>\n",
       "      <td>Travel_Rarely</td>\n",
       "      <td>2086</td>\n",
       "      <td>70.952381</td>\n",
       "    </tr>\n",
       "    <tr>\n",
       "      <th>Department</th>\n",
       "      <td>2940</td>\n",
       "      <td>3</td>\n",
       "      <td>Research &amp; Development</td>\n",
       "      <td>1922</td>\n",
       "      <td>65.37415</td>\n",
       "    </tr>\n",
       "    <tr>\n",
       "      <th>EducationField</th>\n",
       "      <td>2940</td>\n",
       "      <td>6</td>\n",
       "      <td>Life Sciences</td>\n",
       "      <td>1212</td>\n",
       "      <td>41.22449</td>\n",
       "    </tr>\n",
       "    <tr>\n",
       "      <th>Gender</th>\n",
       "      <td>2940</td>\n",
       "      <td>2</td>\n",
       "      <td>Male</td>\n",
       "      <td>1764</td>\n",
       "      <td>60.0</td>\n",
       "    </tr>\n",
       "    <tr>\n",
       "      <th>JobRole</th>\n",
       "      <td>2940</td>\n",
       "      <td>9</td>\n",
       "      <td>Sales Executive</td>\n",
       "      <td>652</td>\n",
       "      <td>22.176871</td>\n",
       "    </tr>\n",
       "    <tr>\n",
       "      <th>MaritalStatus</th>\n",
       "      <td>2940</td>\n",
       "      <td>3</td>\n",
       "      <td>Married</td>\n",
       "      <td>1346</td>\n",
       "      <td>45.782313</td>\n",
       "    </tr>\n",
       "    <tr>\n",
       "      <th>OverTime</th>\n",
       "      <td>2940</td>\n",
       "      <td>2</td>\n",
       "      <td>No</td>\n",
       "      <td>2108</td>\n",
       "      <td>71.70068</td>\n",
       "    </tr>\n",
       "  </tbody>\n",
       "</table>\n",
       "</div>"
      ],
      "text/plain": [
       "               count unique                     top  freq        pct\n",
       "Attrition       2940      2                      No  2466  83.877551\n",
       "BusinessTravel  2940      3           Travel_Rarely  2086  70.952381\n",
       "Department      2940      3  Research & Development  1922   65.37415\n",
       "EducationField  2940      6           Life Sciences  1212   41.22449\n",
       "Gender          2940      2                    Male  1764       60.0\n",
       "JobRole         2940      9         Sales Executive   652  22.176871\n",
       "MaritalStatus   2940      3                 Married  1346  45.782313\n",
       "OverTime        2940      2                      No  2108   71.70068"
      ]
     },
     "execution_count": 23,
     "metadata": {},
     "output_type": "execute_result"
    }
   ],
   "source": [
    "categorical_dataset"
   ]
  },
  {
   "cell_type": "code",
   "execution_count": 24,
   "id": "8a892298",
   "metadata": {
    "ExecuteTime": {
     "end_time": "2022-10-08T03:04:21.314678Z",
     "start_time": "2022-10-08T03:04:21.307481Z"
    }
   },
   "outputs": [
    {
     "data": {
      "text/plain": [
       "Attrition\n",
       "No     2466\n",
       "Yes     474\n",
       "Name: BusinessTravel, dtype: int64"
      ]
     },
     "execution_count": 24,
     "metadata": {},
     "output_type": "execute_result"
    }
   ],
   "source": [
    "dataset.groupby(['Attrition'])['BusinessTravel'].count()"
   ]
  },
  {
   "cell_type": "code",
   "execution_count": 25,
   "id": "0d5bc4d8",
   "metadata": {
    "ExecuteTime": {
     "end_time": "2022-10-08T03:04:59.331597Z",
     "start_time": "2022-10-08T03:04:59.321402Z"
    }
   },
   "outputs": [
    {
     "data": {
      "text/plain": [
       "BusinessTravel\n",
       "Non-Travel            300\n",
       "Travel_Frequently     554\n",
       "Travel_Rarely        2086\n",
       "Name: Attrition, dtype: int64"
      ]
     },
     "execution_count": 25,
     "metadata": {},
     "output_type": "execute_result"
    }
   ],
   "source": [
    "dataset.groupby(['BusinessTravel'])['Attrition'].count()"
   ]
  },
  {
   "cell_type": "markdown",
   "id": "da808e4d",
   "metadata": {},
   "source": [
    "**what are the different factors between those who are leaving vs those who are not leaving ?**"
   ]
  },
  {
   "cell_type": "code",
   "execution_count": 27,
   "id": "083b955e",
   "metadata": {
    "ExecuteTime": {
     "end_time": "2022-10-08T03:06:08.956120Z",
     "start_time": "2022-10-08T03:06:08.944157Z"
    }
   },
   "outputs": [
    {
     "data": {
      "text/plain": [
       "Attrition  BusinessTravel   \n",
       "No         Non-Travel           6350.746377\n",
       "           Travel_Frequently    6828.091346\n",
       "           Travel_Rarely        6908.818489\n",
       "Yes        Non-Travel           5240.750000\n",
       "           Travel_Frequently    4281.434783\n",
       "           Travel_Rarely        4975.852564\n",
       "Name: MonthlyIncome, dtype: float64"
      ]
     },
     "execution_count": 27,
     "metadata": {},
     "output_type": "execute_result"
    }
   ],
   "source": [
    "dataset.groupby(['Attrition', 'BusinessTravel'])['MonthlyIncome'].mean()"
   ]
  },
  {
   "cell_type": "markdown",
   "id": "efa43ce5",
   "metadata": {},
   "source": [
    "## Observation:\n",
    "- Salary for those leaving the organization is lower comapratively to those who are not leaving \n",
    "- salary is lower for those who are travelling very frequently and leaving the organization \n"
   ]
  },
  {
   "cell_type": "code",
   "execution_count": 28,
   "id": "608e7e8b",
   "metadata": {
    "ExecuteTime": {
     "end_time": "2022-10-08T03:13:48.212085Z",
     "start_time": "2022-10-08T03:13:48.200363Z"
    }
   },
   "outputs": [
    {
     "data": {
      "text/plain": [
       "Attrition  PerformanceRating\n",
       "No         3                    14.040230\n",
       "           4                    21.809524\n",
       "Yes        3                    13.810000\n",
       "           4                    22.054054\n",
       "Name: PercentSalaryHike, dtype: float64"
      ]
     },
     "execution_count": 28,
     "metadata": {},
     "output_type": "execute_result"
    }
   ],
   "source": [
    "dataset.groupby(['Attrition', 'PerformanceRating'])['PercentSalaryHike'].mean()"
   ]
  },
  {
   "cell_type": "markdown",
   "id": "d99cee26",
   "metadata": {},
   "source": [
    "## Observation:\n",
    "- No difference observed between Attirated and non attirated employees"
   ]
  },
  {
   "cell_type": "code",
   "execution_count": 30,
   "id": "e26861e9",
   "metadata": {
    "ExecuteTime": {
     "end_time": "2022-10-08T03:17:45.081152Z",
     "start_time": "2022-10-08T03:17:44.986245Z"
    }
   },
   "outputs": [
    {
     "data": {
      "text/html": [
       "<div>\n",
       "<style scoped>\n",
       "    .dataframe tbody tr th:only-of-type {\n",
       "        vertical-align: middle;\n",
       "    }\n",
       "\n",
       "    .dataframe tbody tr th {\n",
       "        vertical-align: top;\n",
       "    }\n",
       "\n",
       "    .dataframe thead th {\n",
       "        text-align: right;\n",
       "    }\n",
       "</style>\n",
       "<table border=\"1\" class=\"dataframe\">\n",
       "  <thead>\n",
       "    <tr style=\"text-align: right;\">\n",
       "      <th></th>\n",
       "      <th>count</th>\n",
       "      <th>mean</th>\n",
       "      <th>std</th>\n",
       "      <th>min</th>\n",
       "      <th>25%</th>\n",
       "      <th>50%</th>\n",
       "      <th>75%</th>\n",
       "      <th>max</th>\n",
       "    </tr>\n",
       "  </thead>\n",
       "  <tbody>\n",
       "    <tr>\n",
       "      <th>EmployeeNumber</th>\n",
       "      <td>2940.0</td>\n",
       "      <td>1470.500000</td>\n",
       "      <td>848.849221</td>\n",
       "      <td>1.0</td>\n",
       "      <td>735.75</td>\n",
       "      <td>1470.5</td>\n",
       "      <td>2205.25</td>\n",
       "      <td>2940.0</td>\n",
       "    </tr>\n",
       "    <tr>\n",
       "      <th>Age</th>\n",
       "      <td>2940.0</td>\n",
       "      <td>36.923810</td>\n",
       "      <td>9.133819</td>\n",
       "      <td>18.0</td>\n",
       "      <td>30.00</td>\n",
       "      <td>36.0</td>\n",
       "      <td>43.00</td>\n",
       "      <td>60.0</td>\n",
       "    </tr>\n",
       "    <tr>\n",
       "      <th>DailyRate</th>\n",
       "      <td>2940.0</td>\n",
       "      <td>802.485714</td>\n",
       "      <td>403.440447</td>\n",
       "      <td>102.0</td>\n",
       "      <td>465.00</td>\n",
       "      <td>802.0</td>\n",
       "      <td>1157.00</td>\n",
       "      <td>1499.0</td>\n",
       "    </tr>\n",
       "    <tr>\n",
       "      <th>DistanceFromHome</th>\n",
       "      <td>2940.0</td>\n",
       "      <td>9.192517</td>\n",
       "      <td>8.105485</td>\n",
       "      <td>1.0</td>\n",
       "      <td>2.00</td>\n",
       "      <td>7.0</td>\n",
       "      <td>14.00</td>\n",
       "      <td>29.0</td>\n",
       "    </tr>\n",
       "    <tr>\n",
       "      <th>Education</th>\n",
       "      <td>2940.0</td>\n",
       "      <td>2.912925</td>\n",
       "      <td>1.023991</td>\n",
       "      <td>1.0</td>\n",
       "      <td>2.00</td>\n",
       "      <td>3.0</td>\n",
       "      <td>4.00</td>\n",
       "      <td>5.0</td>\n",
       "    </tr>\n",
       "    <tr>\n",
       "      <th>EmployeeCount</th>\n",
       "      <td>2940.0</td>\n",
       "      <td>1.000000</td>\n",
       "      <td>0.000000</td>\n",
       "      <td>1.0</td>\n",
       "      <td>1.00</td>\n",
       "      <td>1.0</td>\n",
       "      <td>1.00</td>\n",
       "      <td>1.0</td>\n",
       "    </tr>\n",
       "    <tr>\n",
       "      <th>EnvironmentSatisfaction</th>\n",
       "      <td>2940.0</td>\n",
       "      <td>2.721769</td>\n",
       "      <td>1.092896</td>\n",
       "      <td>1.0</td>\n",
       "      <td>2.00</td>\n",
       "      <td>3.0</td>\n",
       "      <td>4.00</td>\n",
       "      <td>4.0</td>\n",
       "    </tr>\n",
       "    <tr>\n",
       "      <th>HourlyRate</th>\n",
       "      <td>2940.0</td>\n",
       "      <td>65.891156</td>\n",
       "      <td>20.325969</td>\n",
       "      <td>30.0</td>\n",
       "      <td>48.00</td>\n",
       "      <td>66.0</td>\n",
       "      <td>84.00</td>\n",
       "      <td>100.0</td>\n",
       "    </tr>\n",
       "    <tr>\n",
       "      <th>JobInvolvement</th>\n",
       "      <td>2940.0</td>\n",
       "      <td>2.729932</td>\n",
       "      <td>0.711440</td>\n",
       "      <td>1.0</td>\n",
       "      <td>2.00</td>\n",
       "      <td>3.0</td>\n",
       "      <td>3.00</td>\n",
       "      <td>4.0</td>\n",
       "    </tr>\n",
       "    <tr>\n",
       "      <th>JobLevel</th>\n",
       "      <td>2940.0</td>\n",
       "      <td>2.063946</td>\n",
       "      <td>1.106752</td>\n",
       "      <td>1.0</td>\n",
       "      <td>1.00</td>\n",
       "      <td>2.0</td>\n",
       "      <td>3.00</td>\n",
       "      <td>5.0</td>\n",
       "    </tr>\n",
       "    <tr>\n",
       "      <th>JobSatisfaction</th>\n",
       "      <td>2940.0</td>\n",
       "      <td>2.728571</td>\n",
       "      <td>1.102658</td>\n",
       "      <td>1.0</td>\n",
       "      <td>2.00</td>\n",
       "      <td>3.0</td>\n",
       "      <td>4.00</td>\n",
       "      <td>4.0</td>\n",
       "    </tr>\n",
       "    <tr>\n",
       "      <th>MonthlyIncome</th>\n",
       "      <td>2940.0</td>\n",
       "      <td>6502.931293</td>\n",
       "      <td>4707.155770</td>\n",
       "      <td>1009.0</td>\n",
       "      <td>2911.00</td>\n",
       "      <td>4919.0</td>\n",
       "      <td>8380.00</td>\n",
       "      <td>19999.0</td>\n",
       "    </tr>\n",
       "    <tr>\n",
       "      <th>MonthlyRate</th>\n",
       "      <td>2940.0</td>\n",
       "      <td>14313.103401</td>\n",
       "      <td>7116.575021</td>\n",
       "      <td>2094.0</td>\n",
       "      <td>8045.00</td>\n",
       "      <td>14235.5</td>\n",
       "      <td>20462.00</td>\n",
       "      <td>26999.0</td>\n",
       "    </tr>\n",
       "    <tr>\n",
       "      <th>NumCompaniesWorked</th>\n",
       "      <td>2940.0</td>\n",
       "      <td>2.693197</td>\n",
       "      <td>2.497584</td>\n",
       "      <td>0.0</td>\n",
       "      <td>1.00</td>\n",
       "      <td>2.0</td>\n",
       "      <td>4.00</td>\n",
       "      <td>9.0</td>\n",
       "    </tr>\n",
       "    <tr>\n",
       "      <th>PercentSalaryHike</th>\n",
       "      <td>2940.0</td>\n",
       "      <td>15.209524</td>\n",
       "      <td>3.659315</td>\n",
       "      <td>11.0</td>\n",
       "      <td>12.00</td>\n",
       "      <td>14.0</td>\n",
       "      <td>18.00</td>\n",
       "      <td>25.0</td>\n",
       "    </tr>\n",
       "    <tr>\n",
       "      <th>PerformanceRating</th>\n",
       "      <td>2940.0</td>\n",
       "      <td>3.153741</td>\n",
       "      <td>0.360762</td>\n",
       "      <td>3.0</td>\n",
       "      <td>3.00</td>\n",
       "      <td>3.0</td>\n",
       "      <td>3.00</td>\n",
       "      <td>4.0</td>\n",
       "    </tr>\n",
       "    <tr>\n",
       "      <th>RelationshipSatisfaction</th>\n",
       "      <td>2940.0</td>\n",
       "      <td>2.712245</td>\n",
       "      <td>1.081025</td>\n",
       "      <td>1.0</td>\n",
       "      <td>2.00</td>\n",
       "      <td>3.0</td>\n",
       "      <td>4.00</td>\n",
       "      <td>4.0</td>\n",
       "    </tr>\n",
       "    <tr>\n",
       "      <th>StandardHours</th>\n",
       "      <td>2940.0</td>\n",
       "      <td>80.000000</td>\n",
       "      <td>0.000000</td>\n",
       "      <td>80.0</td>\n",
       "      <td>80.00</td>\n",
       "      <td>80.0</td>\n",
       "      <td>80.00</td>\n",
       "      <td>80.0</td>\n",
       "    </tr>\n",
       "    <tr>\n",
       "      <th>StockOptionLevel</th>\n",
       "      <td>2940.0</td>\n",
       "      <td>0.793878</td>\n",
       "      <td>0.851932</td>\n",
       "      <td>0.0</td>\n",
       "      <td>0.00</td>\n",
       "      <td>1.0</td>\n",
       "      <td>1.00</td>\n",
       "      <td>3.0</td>\n",
       "    </tr>\n",
       "    <tr>\n",
       "      <th>TotalWorkingYears</th>\n",
       "      <td>2940.0</td>\n",
       "      <td>11.279592</td>\n",
       "      <td>7.779458</td>\n",
       "      <td>0.0</td>\n",
       "      <td>6.00</td>\n",
       "      <td>10.0</td>\n",
       "      <td>15.00</td>\n",
       "      <td>40.0</td>\n",
       "    </tr>\n",
       "    <tr>\n",
       "      <th>TrainingTimesLastYear</th>\n",
       "      <td>2940.0</td>\n",
       "      <td>2.799320</td>\n",
       "      <td>1.289051</td>\n",
       "      <td>0.0</td>\n",
       "      <td>2.00</td>\n",
       "      <td>3.0</td>\n",
       "      <td>3.00</td>\n",
       "      <td>6.0</td>\n",
       "    </tr>\n",
       "    <tr>\n",
       "      <th>WorkLifeBalance</th>\n",
       "      <td>2940.0</td>\n",
       "      <td>2.761224</td>\n",
       "      <td>0.706356</td>\n",
       "      <td>1.0</td>\n",
       "      <td>2.00</td>\n",
       "      <td>3.0</td>\n",
       "      <td>3.00</td>\n",
       "      <td>4.0</td>\n",
       "    </tr>\n",
       "    <tr>\n",
       "      <th>YearsAtCompany</th>\n",
       "      <td>2940.0</td>\n",
       "      <td>7.008163</td>\n",
       "      <td>6.125483</td>\n",
       "      <td>0.0</td>\n",
       "      <td>3.00</td>\n",
       "      <td>5.0</td>\n",
       "      <td>9.00</td>\n",
       "      <td>40.0</td>\n",
       "    </tr>\n",
       "    <tr>\n",
       "      <th>YearsInCurrentRole</th>\n",
       "      <td>2940.0</td>\n",
       "      <td>4.229252</td>\n",
       "      <td>3.622521</td>\n",
       "      <td>0.0</td>\n",
       "      <td>2.00</td>\n",
       "      <td>3.0</td>\n",
       "      <td>7.00</td>\n",
       "      <td>18.0</td>\n",
       "    </tr>\n",
       "    <tr>\n",
       "      <th>YearsSinceLastPromotion</th>\n",
       "      <td>2940.0</td>\n",
       "      <td>2.187755</td>\n",
       "      <td>3.221882</td>\n",
       "      <td>0.0</td>\n",
       "      <td>0.00</td>\n",
       "      <td>1.0</td>\n",
       "      <td>3.00</td>\n",
       "      <td>15.0</td>\n",
       "    </tr>\n",
       "    <tr>\n",
       "      <th>YearsWithCurrManager</th>\n",
       "      <td>2940.0</td>\n",
       "      <td>4.123129</td>\n",
       "      <td>3.567529</td>\n",
       "      <td>0.0</td>\n",
       "      <td>2.00</td>\n",
       "      <td>3.0</td>\n",
       "      <td>7.00</td>\n",
       "      <td>17.0</td>\n",
       "    </tr>\n",
       "  </tbody>\n",
       "</table>\n",
       "</div>"
      ],
      "text/plain": [
       "                           count          mean          std     min      25%  \\\n",
       "EmployeeNumber            2940.0   1470.500000   848.849221     1.0   735.75   \n",
       "Age                       2940.0     36.923810     9.133819    18.0    30.00   \n",
       "DailyRate                 2940.0    802.485714   403.440447   102.0   465.00   \n",
       "DistanceFromHome          2940.0      9.192517     8.105485     1.0     2.00   \n",
       "Education                 2940.0      2.912925     1.023991     1.0     2.00   \n",
       "EmployeeCount             2940.0      1.000000     0.000000     1.0     1.00   \n",
       "EnvironmentSatisfaction   2940.0      2.721769     1.092896     1.0     2.00   \n",
       "HourlyRate                2940.0     65.891156    20.325969    30.0    48.00   \n",
       "JobInvolvement            2940.0      2.729932     0.711440     1.0     2.00   \n",
       "JobLevel                  2940.0      2.063946     1.106752     1.0     1.00   \n",
       "JobSatisfaction           2940.0      2.728571     1.102658     1.0     2.00   \n",
       "MonthlyIncome             2940.0   6502.931293  4707.155770  1009.0  2911.00   \n",
       "MonthlyRate               2940.0  14313.103401  7116.575021  2094.0  8045.00   \n",
       "NumCompaniesWorked        2940.0      2.693197     2.497584     0.0     1.00   \n",
       "PercentSalaryHike         2940.0     15.209524     3.659315    11.0    12.00   \n",
       "PerformanceRating         2940.0      3.153741     0.360762     3.0     3.00   \n",
       "RelationshipSatisfaction  2940.0      2.712245     1.081025     1.0     2.00   \n",
       "StandardHours             2940.0     80.000000     0.000000    80.0    80.00   \n",
       "StockOptionLevel          2940.0      0.793878     0.851932     0.0     0.00   \n",
       "TotalWorkingYears         2940.0     11.279592     7.779458     0.0     6.00   \n",
       "TrainingTimesLastYear     2940.0      2.799320     1.289051     0.0     2.00   \n",
       "WorkLifeBalance           2940.0      2.761224     0.706356     1.0     2.00   \n",
       "YearsAtCompany            2940.0      7.008163     6.125483     0.0     3.00   \n",
       "YearsInCurrentRole        2940.0      4.229252     3.622521     0.0     2.00   \n",
       "YearsSinceLastPromotion   2940.0      2.187755     3.221882     0.0     0.00   \n",
       "YearsWithCurrManager      2940.0      4.123129     3.567529     0.0     2.00   \n",
       "\n",
       "                              50%       75%      max  \n",
       "EmployeeNumber             1470.5   2205.25   2940.0  \n",
       "Age                          36.0     43.00     60.0  \n",
       "DailyRate                   802.0   1157.00   1499.0  \n",
       "DistanceFromHome              7.0     14.00     29.0  \n",
       "Education                     3.0      4.00      5.0  \n",
       "EmployeeCount                 1.0      1.00      1.0  \n",
       "EnvironmentSatisfaction       3.0      4.00      4.0  \n",
       "HourlyRate                   66.0     84.00    100.0  \n",
       "JobInvolvement                3.0      3.00      4.0  \n",
       "JobLevel                      2.0      3.00      5.0  \n",
       "JobSatisfaction               3.0      4.00      4.0  \n",
       "MonthlyIncome              4919.0   8380.00  19999.0  \n",
       "MonthlyRate               14235.5  20462.00  26999.0  \n",
       "NumCompaniesWorked            2.0      4.00      9.0  \n",
       "PercentSalaryHike            14.0     18.00     25.0  \n",
       "PerformanceRating             3.0      3.00      4.0  \n",
       "RelationshipSatisfaction      3.0      4.00      4.0  \n",
       "StandardHours                80.0     80.00     80.0  \n",
       "StockOptionLevel              1.0      1.00      3.0  \n",
       "TotalWorkingYears            10.0     15.00     40.0  \n",
       "TrainingTimesLastYear         3.0      3.00      6.0  \n",
       "WorkLifeBalance               3.0      3.00      4.0  \n",
       "YearsAtCompany                5.0      9.00     40.0  \n",
       "YearsInCurrentRole            3.0      7.00     18.0  \n",
       "YearsSinceLastPromotion       1.0      3.00     15.0  \n",
       "YearsWithCurrManager          3.0      7.00     17.0  "
      ]
     },
     "execution_count": 30,
     "metadata": {},
     "output_type": "execute_result"
    }
   ],
   "source": [
    "dataset.describe().T"
   ]
  },
  {
   "cell_type": "markdown",
   "id": "37bd02bf",
   "metadata": {},
   "source": [
    "## Univariate Analysis"
   ]
  },
  {
   "cell_type": "markdown",
   "id": "a8a369da",
   "metadata": {
    "ExecuteTime": {
     "end_time": "2022-10-08T03:20:06.540413Z",
     "start_time": "2022-10-08T03:20:06.532953Z"
    }
   },
   "source": [
    "**Continous univariate Analysis**"
   ]
  },
  {
   "cell_type": "code",
   "execution_count": 41,
   "id": "5cffbe0e",
   "metadata": {
    "ExecuteTime": {
     "end_time": "2022-10-08T03:56:44.544677Z",
     "start_time": "2022-10-08T03:56:44.535998Z"
    }
   },
   "outputs": [],
   "source": [
    "def Continous_univariate_Analysis(data,\n",
    "                                  feature,\n",
    "                                  figsize=(12, 7),\n",
    "                                  kde=False,\n",
    "                                  bins=None):\n",
    "    f1, (ax_box,\n",
    "         ax_hist) = plt.subplots(nrows=2,\n",
    "                                 sharex=True,\n",
    "                                 gridspec_kw={\"height_ratios\": (0.25, 0.75)},\n",
    "                                 figsize=figsize)\n",
    "    sns.color_palette('crest', as_cmap=True)\n",
    "    sns.boxplot(data=data,\n",
    "                x=feature,\n",
    "                ax=ax_box,\n",
    "                showmeans=True,\n",
    "                color='violet')\n",
    "    sns.histplot(\n",
    "        data=data, x=feature, ax=ax_hist, kde=kde, bins=bins,\n",
    "        color='crest') if bins else sns.histplot(\n",
    "            data=data, x=feature, kde=kde, ax=ax_hist)\n",
    "\n",
    "    ax_hist.axvline(data[feature].mean(), color='green', linestyle='--')\n",
    "    ax_hist.axvline(data[feature].median(), color='red', linestyle='-')"
   ]
  },
  {
   "cell_type": "code",
   "execution_count": 44,
   "id": "6c73acc3",
   "metadata": {
    "ExecuteTime": {
     "end_time": "2022-10-08T04:09:21.148451Z",
     "start_time": "2022-10-08T04:09:20.897781Z"
    }
   },
   "outputs": [
    {
     "data": {
      "image/png": "[encoded data removed]",
      "text/plain": [
       "<Figure size 864x504 with 2 Axes>"
      ]
     },
     "metadata": {
      "needs_background": "light"
     },
     "output_type": "display_data"
    }
   ],
   "source": [
    "Continous_univariate_Analysis(dataset, 'Age', kde=True)"
   ]
  },
  {
   "cell_type": "markdown",
   "id": "e159bfd6",
   "metadata": {},
   "source": [
    "## Observation\n",
    "- Age is normally distributed \n",
    "- no outlier observed \n",
    "- mean is near to median \n"
   ]
  },
  {
   "cell_type": "code",
   "execution_count": 45,
   "id": "ab614630",
   "metadata": {
    "ExecuteTime": {
     "end_time": "2022-10-08T04:18:37.702572Z",
     "start_time": "2022-10-08T04:18:37.381721Z"
    }
   },
   "outputs": [
    {
     "data": {
      "image/png": "[encoded data removed]",
      "text/plain": [
       "<Figure size 864x504 with 2 Axes>"
      ]
     },
     "metadata": {
      "needs_background": "light"
     },
     "output_type": "display_data"
    }
   ],
   "source": [
    "Continous_univariate_Analysis(dataset, 'MonthlyIncome', kde=True)"
   ]
  },
  {
   "cell_type": "markdown",
   "id": "0bea300a",
   "metadata": {},
   "source": [
    "## Observation\n",
    "- distribution is left skewed \n",
    "- Above 16000, all the salaries are treated as outliers\n",
    "- As it is left skewed, it has good differnce between mean and median \n",
    "- Majority of the employees are earning between 3000 to 8000 dollars per month \n",
    "- 8% employees are earning above 16K dollars\n",
    "- Only Manager and  Research Director earning more than 16K dollars "
   ]
  },
  {
   "cell_type": "code",
   "execution_count": 46,
   "id": "51359518",
   "metadata": {
    "ExecuteTime": {
     "end_time": "2022-10-08T04:22:32.626009Z",
     "start_time": "2022-10-08T04:22:32.357122Z"
    }
   },
   "outputs": [
    {
     "data": {
      "image/png": "[encoded data removed]",
      "text/plain": [
       "<Figure size 864x504 with 2 Axes>"
      ]
     },
     "metadata": {
      "needs_background": "light"
     },
     "output_type": "display_data"
    }
   ],
   "source": [
    "Continous_univariate_Analysis(dataset[dataset['MonthlyIncome']<=15000], 'MonthlyIncome', kde=True)"
   ]
  },
  {
   "cell_type": "code",
   "execution_count": 52,
   "id": "f954916a",
   "metadata": {
    "ExecuteTime": {
     "end_time": "2022-10-08T04:25:52.184407Z",
     "start_time": "2022-10-08T04:25:52.178348Z"
    }
   },
   "outputs": [
    {
     "data": {
      "text/plain": [
       "array(['Manager', 'Research Director'], dtype=object)"
      ]
     },
     "execution_count": 52,
     "metadata": {},
     "output_type": "execute_result"
    }
   ],
   "source": [
    "dataset[dataset['MonthlyIncome']>=16000]['JobRole'].unique()"
   ]
  },
  {
   "cell_type": "code",
   "execution_count": 50,
   "id": "e4a6c37c",
   "metadata": {
    "ExecuteTime": {
     "end_time": "2022-10-08T04:24:33.909541Z",
     "start_time": "2022-10-08T04:24:33.902823Z"
    }
   },
   "outputs": [
    {
     "data": {
      "text/plain": [
       "0.08571428571428572"
      ]
     },
     "execution_count": 50,
     "metadata": {},
     "output_type": "execute_result"
    }
   ],
   "source": [
    "252/2940"
   ]
  },
  {
   "cell_type": "code",
   "execution_count": null,
   "id": "c195bc52",
   "metadata": {},
   "outputs": [],
   "source": []
  }
 ],
 "metadata": {
  "kernelspec": {
   "display_name": "Python 3 (ipykernel)",
   "language": "python",
   "name": "python3"
  },
  "language_info": {
   "codemirror_mode": {
    "name": "ipython",
    "version": 3
   },
   "file_extension": ".py",
   "mimetype": "text/x-python",
   "name": "python",
   "nbconvert_exporter": "python",
   "pygments_lexer": "ipython3",
   "version": "3.8.8"
  }
 },
 "nbformat": 4,
 "nbformat_minor": 5
}
